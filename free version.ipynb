"""
===========================================
CONVERSATIONAL CHESS GAME - FREE VERSION
===========================================
AI vs AI Chess with Natural Conversation
Using 100% Free Tools

Free LLM Options:
1. Groq (Fast, Free API) - RECOMMENDED
2. Together AI (Free credits)
3. Hugging Face Inference API

Setup Instructions:
1. Get a free API key from: https://console.groq.com
2. Run this notebook in Google Colab or Jupyter
3. Install dependencies and start playing!
"""

# ============================================
# SECTION 1: INSTALLATION & IMPORTS
# ============================================

# Install required packages
import sys
import subprocess

def install_packages():
    """Install all required packages"""
    packages = [
        'chess',  # python-chess library
        'requests',  # For API calls
        'IPython',  # For display
    ]
    
    for package in packages:
        try:
            __import__(package)
        except ImportError:
            print(f"Installing {package}...")
            subprocess.check_call([sys.executable, "-m", "pip", "install", "-q", package])
    
    print("✓ All packages installed successfully!")

# Run installation
install_packages()

# Import libraries
import chess
import chess.svg
import requests
import json
import time
import random
from typing import Dict, List, Optional, Tuple
from dataclasses import dataclass
from IPython.display import display, SVG, HTML, clear_output
import base64

print("\n✓ All imports successful!")

# ============================================
# SECTION 2: CONFIGURATION
# ============================================

@dataclass
class GameConfig:
    """Game configuration settings"""
    api_key: str = ""
    api_base_url: str = "https://api.groq.com/openai/v1/chat/completions"
    model: str = "llama-3.1-8b-instant"  # Free Groq model
    max_turns: int = 40
    temperature: float = 0.7
    max_tokens: int = 500
    move_delay: float = 1.0  # Delay between moves for readability
    
    # Agent personalities
    white_personality: str = "aggressive and tactical"
    black_personality: str = "defensive and strategic"

# ============================================
# SECTION 3: LLM INTERFACE (FREE API)
# ============================================

class FreeLLMInterface:
    """Interface for free LLM APIs (Groq, Together, etc.)"""
    
    def __init__(self, config: GameConfig):
        self.config = config
        
    def call_llm(self, messages: List[Dict], temperature: float = None) -> str:
        """Call free LLM API"""
        if not self.config.api_key:
            raise ValueError("API key is required! Get free key from https://console.groq.com")
        
        temp = temperature if temperature is not None else self.config.temperature
        
        headers = {
            "Authorization": f"Bearer {self.config.api_key}",
            "Content-Type": "application/json"
        }
        
        payload = {
            "model": self.config.model,
            "messages": messages,
            "temperature": temp,
            "max_tokens": self.config.max_tokens
        }
        
        try:
            response = requests.post(
                self.config.api_base_url,
                headers=headers,
                json=payload,
                timeout=30
            )
            response.raise_for_status()
            
            result = response.json()
            return result['choices'][0]['message']['content']
            
        except requests.exceptions.RequestException as e:
            print(f"❌ API Error: {e}")
            return None

# ============================================
# SECTION 4: CHESS BOARD MANAGER
# ============================================

class ChessBoardManager:
    """Manages chess board state and operations"""
    
    def __init__(self):
        self.board = chess.Board()
        self.move_history = []
        
    def reset_board(self):
        """Reset to starting position"""
        self.board = chess.Board()
        self.move_history = []
        
    def get_legal_moves(self) -> List[str]:
        """Get all legal moves in UCI format"""
        return [move.uci() for move in self.board.legal_moves]
    
    def get_legal_moves_formatted(self) -> str:
        """Get formatted string of legal moves"""
        moves = self.get_legal_moves()
        if len(moves) > 20:
            return f"Available moves ({len(moves)} total): {', '.join(moves[:20])}..."
        return f"Available moves: {', '.join(moves)}"
    
    def make_move(self, move_uci: str) -> Dict:
        """Execute a move and return result"""
        try:
            move = chess.Move.from_uci(move_uci)
            
            if move not in self.board.legal_moves:
                return {
                    'success': False,
                    'message': f"Illegal move: {move_uci}",
                    'is_check': False,
                    'is_checkmate': False,
                    'is_stalemate': False
                }
            
            # Get piece info before move
            piece = self.board.piece_at(move.from_square)
            piece_symbol = piece.symbol() if piece else '?'
            piece_name = chess.piece_name(piece.piece_type) if piece else 'Unknown'
            
            # Make the move
            self.board.push(move)
            self.move_history.append(move_uci)
            
            # Check game state
            is_check = self.board.is_check()
            is_checkmate = self.board.is_checkmate()
            is_stalemate = self.board.is_stalemate()
            
            # Format message
            from_sq = chess.square_name(move.from_square)
            to_sq = chess.square_name(move.to_square)
            
            message = f"Moved {piece_name} from {from_sq} to {to_sq}"
            
            if is_checkmate:
                message += " - CHECKMATE!"
            elif is_check:
                message += " - Check!"
            elif is_stalemate:
                message += " - Stalemate!"
            
            return {
                'success': True,
                'message': message,
                'is_check': is_check,
                'is_checkmate': is_checkmate,
                'is_stalemate': is_stalemate
            }
            
        except Exception as e:
            return {
                'success': False,
                'message': f"Error: {str(e)}",
                'is_check': False,
                'is_checkmate': False,
                'is_stalemate': False
            }
    
    def is_game_over(self) -> bool:
        """Check if game is over"""
        return self.board.is_game_over()
    
    def get_result(self) -> str:
        """Get game result"""
        if self.board.is_checkmate():
            winner = "Black" if self.board.turn else "White"
            return f"Checkmate! {winner} wins!"
        elif self.board.is_stalemate():
            return "Stalemate - Draw!"
        elif self.board.is_insufficient_material():
            return "Draw - Insufficient material"
        elif self.board.is_fifty_moves():
            return "Draw - Fifty move rule"
        elif self.board.is_repetition():
            return "Draw - Threefold repetition"
        return "Game in progress"
    
    def get_board_svg(self, size=400, last_move=None) -> str:
        """Generate SVG representation of board"""
        return chess.svg.board(
            self.board,
            size=size,
            lastmove=chess.Move.from_uci(last_move) if last_move else None
        )
    
    def get_fen(self) -> str:
        """Get FEN notation"""
        return self.board.fen()

# ============================================
# SECTION 5: CHESS AGENT
# ============================================

class ChessAgent:
    """AI agent that plays chess and converses"""
    
    def __init__(self, name: str, color: str, personality: str, 
                 llm: FreeLLMInterface, board_manager: ChessBoardManager):
        self.name = name
        self.color = color
        self.personality = personality
        self.llm = llm
        self.board_manager = board_manager
        self.conversation_history = []
        
    def get_system_message(self) -> str:
        """Get system prompt for the agent"""
        return f"""You are {self.name}, a chess player with a {self.personality} playing style.
You are playing as {self.color}.

IMPORTANT RULES:
1. You MUST respond with a valid move in UCI format (e.g., e2e4, g1f3)
2. First, you'll be told what legal moves are available
3. Choose ONE move from the legal moves list
4. After stating your move, you may add a short comment (1-2 sentences)
5. Format: MOVE: [your move] - [optional comment]

Example responses:
"MOVE: e2e4 - A classic opening! Let's control the center."
"MOVE: g1f3 - Developing my knight with tempo."

Keep comments brief and chess-focused. Be friendly but competitive!"""
    
    def choose_move(self, legal_moves: List[str], opponent_last_move: str = None) -> Tuple[str, str]:
        """Choose a move using LLM"""
        
        # Build context
        context = f"Legal moves available: {', '.join(legal_moves)}\n"
        context += f"Current position FEN: {self.board_manager.get_fen()}\n"
        
        if opponent_last_move:
            context += f"Opponent's last move: {opponent_last_move}\n"
        
        context += "\nChoose your move and provide a brief comment."
        
        # Prepare messages
        messages = [
            {"role": "system", "content": self.get_system_message()},
            {"role": "user", "content": context}
        ]
        
        # Get response from LLM
        response = self.llm.call_llm(messages)
        
        if not response:
            # Fallback to random move
            return random.choice(legal_moves), "Making a random move due to API error."
        
        # Parse response
        move, comment = self.parse_move_response(response, legal_moves)
        
        return move, comment
    
    def parse_move_response(self, response: str, legal_moves: List[str]) -> Tuple[str, str]:
        """Parse LLM response to extract move and comment"""
        
        # Look for MOVE: pattern
        if "MOVE:" in response.upper():
            parts = response.split("MOVE:", 1)[1].strip()
            
            # Extract move (first word-like token)
            tokens = parts.split()
            for token in tokens:
                clean_token = token.strip('.,;:!?-').lower()
                if clean_token in legal_moves:
                    # Rest is comment
                    comment_start = parts.find(clean_token) + len(clean_token)
                    comment = parts[comment_start:].strip('.,;:!?- \n')
                    return clean_token, comment if comment else "Good move!"
        
        # Fallback: look for any legal move in response
        response_lower = response.lower()
        for move in legal_moves:
            if move in response_lower:
                comment = response.replace(move, "").strip()
                return move, comment if comment else "Interesting position!"
        
        # Last resort: random move
        return random.choice(legal_moves), "Let me try this move."
    
    def make_banter(self, game_state: str) -> str:
        """Generate conversational banter"""
        messages = [
            {"role": "system", "content": self.get_system_message()},
            {"role": "user", "content": f"Game state: {game_state}\n\nMake a brief, friendly chess comment (1 sentence)."}
        ]
        
        response = self.llm.call_llm(messages, temperature=0.9)
        return response if response else "This is an interesting game!"

# ============================================
# SECTION 6: MAIN GAME CONTROLLER
# ============================================

class ConversationalChessGame:
    """Main game controller"""
    
    def __init__(self, config: GameConfig):
        self.config = config
        self.board_manager = ChessBoardManager()
        self.llm = FreeLLMInterface(config)
        
        # Create agents
        self.white_agent = ChessAgent(
            "White Knight", 
            "white", 
            config.white_personality,
            self.llm,
            self.board_manager
        )
        
        self.black_agent = ChessAgent(
            "Black Bishop",
            "black",
            config.black_personality,
            self.llm,
            self.board_manager
        )
        
        self.game_log = []
        
    def log_event(self, event: str):
        """Log game event"""
        self.game_log.append(event)
        print(event)
    
    def display_board(self, last_move=None):
        """Display chess board"""
        svg = self.board_manager.get_board_svg(size=400, last_move=last_move)
        display(SVG(svg))
    
    def play_turn(self, agent: ChessAgent, turn_number: int) -> bool:
        """Play one turn for an agent"""
        
        self.log_event(f"\n{'='*60}")
        self.log_event(f"Turn {turn_number} - {agent.name}'s move ({agent.color})")
        self.log_event(f"{'='*60}")
        
        # Get legal moves
        legal_moves = self.board_manager.get_legal_moves()
        
        if not legal_moves:
            self.log_event("No legal moves available!")
            return False
        
        # Show available moves
        self.log_event(f"📋 {self.board_manager.get_legal_moves_formatted()}")
        
        # Agent chooses move
        self.log_event(f"🤔 {agent.name} is thinking...")
        
        opponent_last = self.board_manager.move_history[-1] if self.board_manager.move_history else None
        move, comment = agent.choose_move(legal_moves, opponent_last)
        
        # Make the move
        result = self.board_manager.make_move(move)
        
        if result['success']:
            self.log_event(f"♟️  {agent.name}: {move} - {result['message']}")
            self.log_event(f"💬 {agent.name}: \"{comment}\"")
            
            # Display board after move
            time.sleep(0.5)  # Brief pause
            self.display_board(last_move=move)
            
            # Check game state
            if result['is_checkmate']:
                self.log_event(f"\n🏆 CHECKMATE! {agent.name} wins!")
                return False
            elif result['is_stalemate']:
                self.log_event(f"\n🤝 STALEMATE! Game is a draw!")
                return False
            elif result['is_check']:
                self.log_event(f"⚠️  Check!")
        else:
            self.log_event(f"❌ Move failed: {result['message']}")
            return False
        
        time.sleep(self.config.move_delay)
        return True
    
    def start_game(self):
        """Start and run the complete game"""
        
        self.log_event("\n" + "="*60)
        self.log_event("🎮 CONVERSATIONAL CHESS GAME")
        self.log_event("="*60)
        self.log_event(f"⚪ White: {self.white_agent.name} ({self.config.white_personality})")
        self.log_event(f"⚫ Black: {self.black_agent.name} ({self.config.black_personality})")
        self.log_event(f"🤖 Model: {self.config.model}")
        self.log_event(f"🎯 Max turns: {self.config.max_turns}")
        self.log_event("="*60 + "\n")
        
        # Display initial board
        self.log_event("Initial Position:")
        self.display_board()
        
        # Opening banter
        self.log_event(f"\n💬 {self.black_agent.name}: \"Ready for an exciting game! Good luck!\"")
        self.log_event(f"💬 {self.white_agent.name}: \"May the best player win! Let's begin!\"\n")
        
        time.sleep(2)
        
        # Main game loop
        turn = 0
        while turn < self.config.max_turns and not self.board_manager.is_game_over():
            turn += 1
            
            # White's turn
            if not self.play_turn(self.white_agent, turn):
                break
            
            if self.board_manager.is_game_over():
                break
            
            # Black's turn
            if not self.play_turn(self.black_agent, turn):
                break
        
        # Game over
        self.log_event("\n" + "="*60)
        self.log_event("🏁 GAME OVER")
        self.log_event("="*60)
        self.log_event(f"📊 Result: {self.board_manager.get_result()}")
        self.log_event(f"📈 Total moves: {len(self.board_manager.move_history)}")
        self.log_event(f"📋 Final FEN: {self.board_manager.get_fen()}")
        self.log_event("="*60)
        
        # Final board
        self.log_event("\nFinal Position:")
        last = self.board_manager.move_history[-1] if self.board_manager.move_history else None
        self.display_board(last_move=last)

# ============================================
# SECTION 7: QUICK START GUIDE
# ============================================

def print_setup_guide():
    """Print setup instructions"""
    guide = """
    ╔════════════════════════════════════════════════════════════╗
    ║     CONVERSATIONAL CHESS GAME - SETUP GUIDE               ║
    ╚════════════════════════════════════════════════════════════╝
    
    🆓 FREE API OPTIONS:
    
    1. GROQ (RECOMMENDED - Fast & Free):
       • Visit: https://console.groq.com
       • Sign up (free)
       • Get API key
       • Models: llama-3.1-8b-instant (fast), llama-3.1-70b-versatile (smart)
    
    2. TOGETHER AI:
       • Visit: https://api.together.xyz
       • $25 free credits
       • Great model selection
    
    3. HUGGING FACE:
       • Visit: https://huggingface.co/settings/tokens
       • Free inference API
       • Good for experimentation
    
    ⚙️ QUICK START:
    
    1. Get your free API key (see above)
    2. Run the configuration cell below
    3. Enter your API key when prompted
    4. Run the game!
    
    📝 CUSTOMIZATION:
    
    • Change personalities in config
    • Adjust max_turns for longer/shorter games
    • Try different models
    • Modify move_delay for pacing
    """
    print(guide)

# ============================================
# SECTION 8: INTERACTIVE CONFIGURATION
# ============================================

def configure_game() -> GameConfig:
    """Interactive game configuration"""
    
    print("\n🎮 GAME CONFIGURATION")
    print("="*60)
    
    # API Key
    api_key = input("Enter your Groq API key (or press Enter to skip): ").strip()
    
    if not api_key:
        print("\n⚠️  No API key provided. Using demo mode (random moves).")
        print("Get free API key: https://console.groq.com\n")
    
    # Model selection
    print("\n📚 Available Models:")
    print("1. llama-3.1-8b-instant (Fast, Free)")
    print("2. llama-3.1-70b-versatile (Smarter, Free)")
    print("3. mixtral-8x7b-32768 (Good balance)")
    
    model_choice = input("\nSelect model (1-3) [default: 1]: ").strip()
    
    models = {
        "1": "llama-3.1-8b-instant",
        "2": "llama-3.1-70b-versatile",
        "3": "mixtral-8x7b-32768"
    }
    model = models.get(model_choice, "llama-3.1-8b-instant")
    
    # Personalities
    print("\n🎭 Configure Agent Personalities:")
    white_personality = input("White player style [aggressive and tactical]: ").strip()
    black_personality = input("Black player style [defensive and strategic]: ").strip()
    
    # Game length
    max_turns = input("\n🎯 Maximum turns [40]: ").strip()
    max_turns = int(max_turns) if max_turns.isdigit() else 40
    
    config = GameConfig(
        api_key=api_key,
        model=model,
        white_personality=white_personality or "aggressive and tactical",
        black_personality=black_personality or "defensive and strategic",
        max_turns=max_turns
    )
    
    print("\n✅ Configuration complete!")
    print(f"   Model: {config.model}")
    print(f"   Max turns: {config.max_turns}")
    print(f"   White: {config.white_personality}")
    print(f"   Black: {config.black_personality}")
    
    return config

# ============================================
# SECTION 9: MAIN EXECUTION
# ============================================

def main():
    """Main execution function"""
    
    # Show setup guide
    print_setup_guide()
    
    # Configure game
    config = configure_game()
    
    # Confirm start
    print("\n" + "="*60)
    start = input("Ready to start the game? (y/n) [y]: ").strip().lower()
    
    if start == 'n':
        print("Game cancelled. Run again when ready!")
        return
    
    # Create and start game
    game = ConversationalChessGame(config)
    
    try:
        game.start_game()
        print("\n✅ Game completed successfully!")
        
    except KeyboardInterrupt:
        print("\n\n⚠️  Game interrupted by user.")
        
    except Exception as e:
        print(f"\n❌ Error occurred: {e}")
        print("Check your API key and internet connection.")

# ============================================
# RUN THE GAME!
# ============================================

if __name__ == "__main__":
    print("="*60)
    print("  🎮 CONVERSATIONAL CHESS GAME - FREE VERSION")
    print("="*60)
    print("\nThis notebook contains a complete AI vs AI chess game")
    print("with natural language conversation using FREE APIs!\n")
    
    # Uncomment the line below to run automatically:
    # main()
    
    print("📝 To start:")
    print("   1. Get free API key from https://console.groq.com")
    print("   2. Run: main()")
    print("   3. Enjoy the game!\n")

# Quick start examples:
"""
EXAMPLE 1: Quick start with default settings
>>> main()

EXAMPLE 2: Custom configuration
>>> config = GameConfig(
...     api_key="your-key-here",
...     model="llama-3.1-70b-versatile",
...     max_turns=20,
...     white_personality="aggressive attacker",
...     black_personality="patient defender"
... )
>>> game = ConversationalChessGame(config)
>>> game.start_game()

EXAMPLE 3: Manual move testing
>>> board = ChessBoardManager()
>>> print(board.get_legal_moves_formatted())
>>> result = board.make_move("e2e4")
>>> print(result)
"""
